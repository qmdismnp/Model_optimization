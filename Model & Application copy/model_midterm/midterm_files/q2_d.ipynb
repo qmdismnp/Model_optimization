{
 "cells": [
  {
   "cell_type": "code",
   "execution_count": 4,
   "metadata": {},
   "outputs": [
    {
     "name": "stdout",
     "output_type": "stream",
     "text": [
      "Gurobi Optimizer version 12.0.0 build v12.0.0rc1 (mac64[arm] - Darwin 24.3.0 24D70)\n",
      "\n",
      "CPU model: Apple M3\n",
      "Thread count: 8 physical cores, 8 logical processors, using up to 8 threads\n",
      "\n",
      "Optimize a model with 10 rows, 144 columns and 891 nonzeros\n",
      "Model fingerprint: 0xa831c116\n",
      "Coefficient statistics:\n",
      "  Matrix range     [6e-02, 2e+00]\n",
      "  Objective range  [6e-02, 2e-01]\n",
      "  Bounds range     [1e+00, 1e+00]\n",
      "  RHS range        [1e+00, 2e+01]\n",
      "Presolve removed 0 rows and 9 columns\n",
      "Presolve time: 0.00s\n",
      "Presolved: 10 rows, 135 columns, 837 nonzeros\n",
      "\n",
      "Iteration    Objective       Primal Inf.    Dual Inf.      Time\n",
      "       0    6.6875000e+00   4.590000e+01   0.000000e+00      0s\n",
      "       7    3.4750000e+00   0.000000e+00   0.000000e+00      0s\n",
      "\n",
      "Solved in 7 iterations and 0.00 seconds (0.00 work units)\n",
      "Optimal objective  3.475000000e+00\n",
      "New Optimal Objective Function Value: 3.475\n"
     ]
    }
   ],
   "source": [
    "import pandas as pd\n",
    "import gurobipy as gb\n",
    "from gurobipy import GRB\n",
    "\n",
    "# Load the dataset\n",
    "welders_data = pd.read_csv(\"/Users/huiyisang/Desktop/welders_data.csv\")\n",
    "welders_speed_data = pd.read_csv(\"/Users/huiyisang/Desktop/welders_speed_data.csv\")\n",
    "\n",
    "# Merge datasets on Welder_ID if necessary\n",
    "if \"Welder_ID\" in welders_speed_data.columns:\n",
    "    welders_data = welders_data.merge(welders_speed_data, on=\"Welder_ID\", how=\"left\")\n",
    "\n",
    "# Extract relevant columns\n",
    "welders_data = welders_data[[\"Welder_ID\", \"Safety_Rating\", \"Speed_Rating\", \n",
    "                             \"SMAW_Proficient\", \"GMAW_Proficient\", \n",
    "                             \"FCAW_Proficient\", \"GTAW_Proficient\", \"Experience_10_Years\"]]\n",
    "\n",
    "# Number of welders to hire\n",
    "num_welders_to_hire = 16\n",
    "num_welders = len(welders_data)\n",
    "\n",
    "# Create Gurobi model\n",
    "model = gb.Model(\"Welder Selection Without Speed-Safety Constraint\")\n",
    "\n",
    "# Decision variables\n",
    "x = model.addVars(num_welders, lb=0, ub=1, vtype=GRB.CONTINUOUS, name=\"WelderSelection\")\n",
    "\n",
    "# Objective function: Maximize the average speed rating\n",
    "model.setObjective(gb.quicksum(welders_data.iloc[i][\"Speed_Rating\"] * x[i] for i in range(num_welders)) / num_welders_to_hire, GRB.MAXIMIZE)\n",
    "\n",
    "# Constraints\n",
    "model.addConstr(gb.quicksum(x[i] for i in range(num_welders)) == num_welders_to_hire, \"TotalWelders\")\n",
    "model.addConstr(gb.quicksum(x[i] for i in range(num_welders) if welders_data.iloc[i][\"SMAW_Proficient\"] == 1 and welders_data.iloc[i][\"GMAW_Proficient\"] == 1) >= 0.5 * num_welders_to_hire, \"SMAW_GMAW_Proficiency\")\n",
    "for technique in [\"SMAW_Proficient\", \"GMAW_Proficient\", \"FCAW_Proficient\", \"GTAW_Proficient\"]:\n",
    "    model.addConstr(gb.quicksum(x[i] for i in range(num_welders) if welders_data.iloc[i][technique] == 1) >= 2, f\"{technique}_Requirement\")\n",
    "model.addConstr(gb.quicksum(x[i] for i in range(num_welders) if welders_data.iloc[i][\"Experience_10_Years\"] == 1) >= 0.3 * num_welders_to_hire, \"ExperienceRequirement\")\n",
    "model.addConstr(gb.quicksum(welders_data.iloc[i][\"Safety_Rating\"] * x[i] for i in range(num_welders)) / num_welders_to_hire >= 3.9, \"SafetyRequirement\")\n",
    "model.addConstr(gb.quicksum(welders_data.iloc[i][\"Speed_Rating\"] * x[i] for i in range(num_welders)) / num_welders_to_hire >= 3.1, \"SpeedRequirement\")\n",
    "num_hired_70_100 = gb.quicksum(x[i] for i in range(69, 100))\n",
    "num_hired_101_130 = gb.quicksum(x[i] for i in range(100, 130))\n",
    "model.addConstr(num_hired_70_100 >= 2 * num_hired_101_130 + 1, \"HiringRange\")\n",
    "\n",
    "# **REMOVED: Constraint enforcing at least 3 welders with Speed = 1 and Safety >= 3**\n",
    "\n",
    "# Solve the model\n",
    "model.optimize()\n",
    "\n",
    "# Store the new optimal objective function value\n",
    "optimal_value_without_speed_safety_constraint = model.objVal\n",
    "print(f\"New Optimal Objective Function Value: {optimal_value_without_speed_safety_constraint}\")\n"
   ]
  },
  {
   "cell_type": "code",
   "execution_count": null,
   "metadata": {},
   "outputs": [],
   "source": []
  }
 ],
 "metadata": {
  "kernelspec": {
   "display_name": "base",
   "language": "python",
   "name": "python3"
  },
  "language_info": {
   "codemirror_mode": {
    "name": "ipython",
    "version": 3
   },
   "file_extension": ".py",
   "mimetype": "text/x-python",
   "name": "python",
   "nbconvert_exporter": "python",
   "pygments_lexer": "ipython3",
   "version": "3.12.2"
  }
 },
 "nbformat": 4,
 "nbformat_minor": 2
}
