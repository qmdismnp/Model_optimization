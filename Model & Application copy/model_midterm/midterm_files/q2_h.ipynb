{
 "cells": [
  {
   "cell_type": "code",
   "execution_count": 2,
   "metadata": {},
   "outputs": [
    {
     "name": "stdout",
     "output_type": "stream",
     "text": [
      "Set parameter Username\n",
      "Set parameter LicenseID to value 2610034\n",
      "Academic license - for non-commercial use only - expires 2026-01-14\n"
     ]
    },
    {
     "ename": "TypeError",
     "evalue": "can't multiply sequence by non-int of type 'Var'",
     "output_type": "error",
     "traceback": [
      "\u001b[0;31m---------------------------------------------------------------------------\u001b[0m",
      "\u001b[0;31mTypeError\u001b[0m                                 Traceback (most recent call last)",
      "Cell \u001b[0;32mIn[2], line 30\u001b[0m\n\u001b[1;32m     25\u001b[0m x \u001b[38;5;241m=\u001b[39m model\u001b[38;5;241m.\u001b[39maddVars(num_welders, vtype\u001b[38;5;241m=\u001b[39mGRB\u001b[38;5;241m.\u001b[39mBINARY, name\u001b[38;5;241m=\u001b[39m\u001b[38;5;124m\"\u001b[39m\u001b[38;5;124mWelderSelection\u001b[39m\u001b[38;5;124m\"\u001b[39m)\n\u001b[1;32m     27\u001b[0m \u001b[38;5;66;03m# Objective function: Base speed + interaction effects\u001b[39;00m\n\u001b[1;32m     28\u001b[0m model\u001b[38;5;241m.\u001b[39msetObjective(\n\u001b[1;32m     29\u001b[0m     gb\u001b[38;5;241m.\u001b[39mquicksum(welders_data\u001b[38;5;241m.\u001b[39miloc[i][\u001b[38;5;124m\"\u001b[39m\u001b[38;5;124mSpeed_Rating\u001b[39m\u001b[38;5;124m\"\u001b[39m] \u001b[38;5;241m*\u001b[39m x[i] \u001b[38;5;28;01mfor\u001b[39;00m i \u001b[38;5;129;01min\u001b[39;00m \u001b[38;5;28mrange\u001b[39m(num_welders)) \u001b[38;5;241m+\u001b[39m \n\u001b[0;32m---> 30\u001b[0m     gb\u001b[38;5;241m.\u001b[39mquicksum(welders_speed_data\u001b[38;5;241m.\u001b[39miloc[i, j] \u001b[38;5;241m*\u001b[39m x[i] \u001b[38;5;241m*\u001b[39m x[j] \u001b[38;5;28;01mfor\u001b[39;00m i \u001b[38;5;129;01min\u001b[39;00m \u001b[38;5;28mrange\u001b[39m(num_welders) \u001b[38;5;28;01mfor\u001b[39;00m j \u001b[38;5;129;01min\u001b[39;00m \u001b[38;5;28mrange\u001b[39m(num_welders) \u001b[38;5;28;01mif\u001b[39;00m i \u001b[38;5;241m!=\u001b[39m j),\n\u001b[1;32m     31\u001b[0m     GRB\u001b[38;5;241m.\u001b[39mMAXIMIZE\n\u001b[1;32m     32\u001b[0m )\n\u001b[1;32m     34\u001b[0m \u001b[38;5;66;03m# Constraints\u001b[39;00m\n\u001b[1;32m     35\u001b[0m model\u001b[38;5;241m.\u001b[39maddConstr(gb\u001b[38;5;241m.\u001b[39mquicksum(x[i] \u001b[38;5;28;01mfor\u001b[39;00m i \u001b[38;5;129;01min\u001b[39;00m \u001b[38;5;28mrange\u001b[39m(num_welders)) \u001b[38;5;241m==\u001b[39m num_welders_to_hire, \u001b[38;5;124m\"\u001b[39m\u001b[38;5;124mTotalWelders\u001b[39m\u001b[38;5;124m\"\u001b[39m)\n",
      "File \u001b[0;32msrc/gurobipy/_helpers.pyx:41\u001b[0m, in \u001b[0;36mgurobipy._helpers.quicksum\u001b[0;34m()\u001b[0m\n",
      "Cell \u001b[0;32mIn[2], line 30\u001b[0m, in \u001b[0;36m<genexpr>\u001b[0;34m(.0)\u001b[0m\n\u001b[1;32m     25\u001b[0m x \u001b[38;5;241m=\u001b[39m model\u001b[38;5;241m.\u001b[39maddVars(num_welders, vtype\u001b[38;5;241m=\u001b[39mGRB\u001b[38;5;241m.\u001b[39mBINARY, name\u001b[38;5;241m=\u001b[39m\u001b[38;5;124m\"\u001b[39m\u001b[38;5;124mWelderSelection\u001b[39m\u001b[38;5;124m\"\u001b[39m)\n\u001b[1;32m     27\u001b[0m \u001b[38;5;66;03m# Objective function: Base speed + interaction effects\u001b[39;00m\n\u001b[1;32m     28\u001b[0m model\u001b[38;5;241m.\u001b[39msetObjective(\n\u001b[1;32m     29\u001b[0m     gb\u001b[38;5;241m.\u001b[39mquicksum(welders_data\u001b[38;5;241m.\u001b[39miloc[i][\u001b[38;5;124m\"\u001b[39m\u001b[38;5;124mSpeed_Rating\u001b[39m\u001b[38;5;124m\"\u001b[39m] \u001b[38;5;241m*\u001b[39m x[i] \u001b[38;5;28;01mfor\u001b[39;00m i \u001b[38;5;129;01min\u001b[39;00m \u001b[38;5;28mrange\u001b[39m(num_welders)) \u001b[38;5;241m+\u001b[39m \n\u001b[0;32m---> 30\u001b[0m     gb\u001b[38;5;241m.\u001b[39mquicksum(welders_speed_data\u001b[38;5;241m.\u001b[39miloc[i, j] \u001b[38;5;241m*\u001b[39m x[i] \u001b[38;5;241m*\u001b[39m x[j] \u001b[38;5;28;01mfor\u001b[39;00m i \u001b[38;5;129;01min\u001b[39;00m \u001b[38;5;28mrange\u001b[39m(num_welders) \u001b[38;5;28;01mfor\u001b[39;00m j \u001b[38;5;129;01min\u001b[39;00m \u001b[38;5;28mrange\u001b[39m(num_welders) \u001b[38;5;28;01mif\u001b[39;00m i \u001b[38;5;241m!=\u001b[39m j),\n\u001b[1;32m     31\u001b[0m     GRB\u001b[38;5;241m.\u001b[39mMAXIMIZE\n\u001b[1;32m     32\u001b[0m )\n\u001b[1;32m     34\u001b[0m \u001b[38;5;66;03m# Constraints\u001b[39;00m\n\u001b[1;32m     35\u001b[0m model\u001b[38;5;241m.\u001b[39maddConstr(gb\u001b[38;5;241m.\u001b[39mquicksum(x[i] \u001b[38;5;28;01mfor\u001b[39;00m i \u001b[38;5;129;01min\u001b[39;00m \u001b[38;5;28mrange\u001b[39m(num_welders)) \u001b[38;5;241m==\u001b[39m num_welders_to_hire, \u001b[38;5;124m\"\u001b[39m\u001b[38;5;124mTotalWelders\u001b[39m\u001b[38;5;124m\"\u001b[39m)\n",
      "\u001b[0;31mTypeError\u001b[0m: can't multiply sequence by non-int of type 'Var'"
     ]
    }
   ],
   "source": [
    "import pandas as pd\n",
    "import gurobipy as gb\n",
    "from gurobipy import GRB\n",
    "\n",
    "# Load datasets\n",
    "welders_data = pd.read_csv(\"/Users/huiyisang/Desktop/welders_data.csv\")\n",
    "welders_speed_data = pd.read_csv(\"/Users/huiyisang/Desktop/welders_speed_data.csv\")\n",
    "\n",
    "# Merge datasets on Welder_ID if necessary\n",
    "if \"Welder_ID\" in welders_speed_data.columns:\n",
    "    welders_data = welders_data.merge(welders_speed_data, on=\"Welder_ID\", how=\"left\")\n",
    "\n",
    "# Extract relevant columns\n",
    "welders_data = welders_data[[\"Welder_ID\", \"Safety_Rating\", \"Speed_Rating\", \n",
    "                             \"SMAW_Proficient\", \"GMAW_Proficient\", \n",
    "                             \"FCAW_Proficient\", \"GTAW_Proficient\", \"Experience_10_Years\"]]\n",
    "\n",
    "num_welders = len(welders_data)\n",
    "num_welders_to_hire = 16\n",
    "\n",
    "# Create Gurobi model\n",
    "model = gb.Model(\"Welder Selection with Interaction Effects\")\n",
    "\n",
    "# Decision variables\n",
    "x = model.addVars(num_welders, vtype=GRB.BINARY, name=\"WelderSelection\")\n",
    "\n",
    "# Objective function: Base speed + interaction effects\n",
    "model.setObjective(\n",
    "    gb.quicksum(welders_data.iloc[i][\"Speed_Rating\"] * x[i] for i in range(num_welders)) + \n",
    "    gb.quicksum(welders_speed_data.iloc[i, j] * x[i] * x[j] for i in range(num_welders) for j in range(num_welders) if i != j),\n",
    "    GRB.MAXIMIZE\n",
    ")\n",
    "\n",
    "# Constraints\n",
    "model.addConstr(gb.quicksum(x[i] for i in range(num_welders)) == num_welders_to_hire, \"TotalWelders\")\n",
    "\n",
    "# Solve the nonlinear optimization problem\n",
    "model.optimize()\n",
    "\n",
    "# Display the new optimal objective function value\n",
    "optimal_nonlinear_value = model.objVal\n",
    "print(f\"Optimal Objective Function Value (Nonlinear): {optimal_nonlinear_value}\")\n"
   ]
  },
  {
   "cell_type": "code",
   "execution_count": null,
   "metadata": {},
   "outputs": [],
   "source": []
  }
 ],
 "metadata": {
  "kernelspec": {
   "display_name": "base",
   "language": "python",
   "name": "python3"
  },
  "language_info": {
   "codemirror_mode": {
    "name": "ipython",
    "version": 3
   },
   "file_extension": ".py",
   "mimetype": "text/x-python",
   "name": "python",
   "nbconvert_exporter": "python",
   "pygments_lexer": "ipython3",
   "version": "3.12.2"
  }
 },
 "nbformat": 4,
 "nbformat_minor": 2
}
